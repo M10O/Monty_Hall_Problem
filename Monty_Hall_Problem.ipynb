{
  "nbformat": 4,
  "nbformat_minor": 0,
  "metadata": {
    "colab": {
      "provenance": []
    },
    "kernelspec": {
      "name": "python3",
      "display_name": "Python 3"
    },
    "language_info": {
      "name": "python"
    }
  },
  "cells": [
    {
      "cell_type": "code",
      "execution_count": 1,
      "metadata": {
        "colab": {
          "base_uri": "https://localhost:8080/"
        },
        "id": "tl4rdL8HewZW",
        "outputId": "7c60cbba-7b19-4827-a6dc-b994567fc0b7"
      },
      "outputs": [
        {
          "output_type": "stream",
          "name": "stdout",
          "text": [
            "Win rate without switching doors: 0.34\n",
            "Win rate with switching doors: 0.67\n"
          ]
        }
      ],
      "source": [
        "import random\n",
        "\n",
        "def simulate_monty_hall(num_trials, switch_door):\n",
        "    wins = 0\n",
        "\n",
        "    for _ in range(num_trials):\n",
        "        # Randomly place the prize behind one of the doors\n",
        "        prize_door = random.randint(0, 2)\n",
        "\n",
        "        # Contestant selects a door\n",
        "        contestant_choice = random.randint(0, 2)\n",
        "\n",
        "        # Host reveals a door that doesn't contain the prize and wasn't chosen by the contestant\n",
        "        remaining_doors = [door for door in range(3) if door != contestant_choice and door != prize_door]\n",
        "        door_revealed = random.choice(remaining_doors)\n",
        "\n",
        "        # If switch_door is True, the contestant switches to the other unchosen door\n",
        "        if switch_door:\n",
        "            contestant_choice = [door for door in range(3) if door != contestant_choice and door != door_revealed][0]\n",
        "\n",
        "        # Check if the contestant wins\n",
        "        if contestant_choice == prize_door:\n",
        "            wins += 1\n",
        "\n",
        "    return wins / num_trials\n",
        "\n",
        "# Number of trials\n",
        "num_trials = 10000\n",
        "\n",
        "# Simulate Monty Hall problem without switching doors\n",
        "win_rate_without_switching = simulate_monty_hall(num_trials, False)\n",
        "print(f\"Win rate without switching doors: {win_rate_without_switching:.2f}\")\n",
        "\n",
        "# Simulate Monty Hall problem with switching doors\n",
        "win_rate_with_switching = simulate_monty_hall(num_trials, True)\n",
        "print(f\"Win rate with switching doors: {win_rate_with_switching:.2f}\")\n"
      ]
    }
  ]
}